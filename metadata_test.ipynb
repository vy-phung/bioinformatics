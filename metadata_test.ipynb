{
  "nbformat": 4,
  "nbformat_minor": 0,
  "metadata": {
    "colab": {
      "name": "Untitled3.ipynb",
      "provenance": [],
      "authorship_tag": "ABX9TyNWGqgfKBeb7LqEMmOCXEQI",
      "include_colab_link": true
    },
    "kernelspec": {
      "name": "python3",
      "display_name": "Python 3"
    }
  },
  "cells": [
    {
      "cell_type": "markdown",
      "metadata": {
        "id": "view-in-github",
        "colab_type": "text"
      },
      "source": [
        "<a href=\"https://colab.research.google.com/github/vy-phung/bioinformatics/blob/master/metadata_test.ipynb\" target=\"_parent\"><img src=\"https://colab.research.google.com/assets/colab-badge.svg\" alt=\"Open In Colab\"/></a>"
      ]
    },
    {
      "cell_type": "code",
      "metadata": {
        "id": "GjL8QMQ-X9Vr"
      },
      "source": [
        "# Import pandas library\r\n",
        "import pandas as pd\r\n",
        "\r\n",
        "# Read the online file by the URL provides above, and assign it to variable \"df\"\r\n",
        "other_path = \"https://raw.githubusercontent.com/jameshadfield/phandangoExampleData/master/PMEN1_recombination/meta.simple.csv\"\r\n",
        "df = pd.read_csv(other_path, header=None)"
      ],
      "execution_count": 1,
      "outputs": []
    },
    {
      "cell_type": "code",
      "metadata": {
        "id": "EGy0_lr2YVhT"
      },
      "source": [
        "# import pandas library\r\n",
        "import pandas as pd\r\n",
        "import numpy as np"
      ],
      "execution_count": 2,
      "outputs": []
    },
    {
      "cell_type": "code",
      "metadata": {
        "colab": {
          "base_uri": "https://localhost:8080/",
          "height": 355
        },
        "id": "spJ7XOorYMF6",
        "outputId": "72350463-45a7-4b17-d6da-b221da4bfebe"
      },
      "source": [
        "df.head(10)"
      ],
      "execution_count": 3,
      "outputs": [
        {
          "output_type": "execute_result",
          "data": {
            "text/html": [
              "<div>\n",
              "<style scoped>\n",
              "    .dataframe tbody tr th:only-of-type {\n",
              "        vertical-align: middle;\n",
              "    }\n",
              "\n",
              "    .dataframe tbody tr th {\n",
              "        vertical-align: top;\n",
              "    }\n",
              "\n",
              "    .dataframe thead th {\n",
              "        text-align: right;\n",
              "    }\n",
              "</style>\n",
              "<table border=\"1\" class=\"dataframe\">\n",
              "  <thead>\n",
              "    <tr style=\"text-align: right;\">\n",
              "      <th></th>\n",
              "      <th>0</th>\n",
              "      <th>1</th>\n",
              "      <th>2</th>\n",
              "      <th>3</th>\n",
              "      <th>4</th>\n",
              "    </tr>\n",
              "  </thead>\n",
              "  <tbody>\n",
              "    <tr>\n",
              "      <th>0</th>\n",
              "      <td>lane</td>\n",
              "      <td>Country</td>\n",
              "      <td>Year</td>\n",
              "      <td>Serotype</td>\n",
              "      <td>ST</td>\n",
              "    </tr>\n",
              "    <tr>\n",
              "      <th>1</th>\n",
              "      <td>4330_3_1</td>\n",
              "      <td>Germany</td>\n",
              "      <td>1998</td>\n",
              "      <td>23F</td>\n",
              "      <td>81</td>\n",
              "    </tr>\n",
              "    <tr>\n",
              "      <th>2</th>\n",
              "      <td>4330_3_11</td>\n",
              "      <td>Germany</td>\n",
              "      <td>2001</td>\n",
              "      <td>23F</td>\n",
              "      <td>81</td>\n",
              "    </tr>\n",
              "    <tr>\n",
              "      <th>3</th>\n",
              "      <td>4330_3_8</td>\n",
              "      <td>Germany</td>\n",
              "      <td>1992</td>\n",
              "      <td>23F</td>\n",
              "      <td>81</td>\n",
              "    </tr>\n",
              "    <tr>\n",
              "      <th>4</th>\n",
              "      <td>4330_3_7</td>\n",
              "      <td>Germany</td>\n",
              "      <td>1992</td>\n",
              "      <td>23F</td>\n",
              "      <td>81</td>\n",
              "    </tr>\n",
              "    <tr>\n",
              "      <th>5</th>\n",
              "      <td>4330_3_6</td>\n",
              "      <td>Germany</td>\n",
              "      <td>1992</td>\n",
              "      <td>23F</td>\n",
              "      <td>81</td>\n",
              "    </tr>\n",
              "    <tr>\n",
              "      <th>6</th>\n",
              "      <td>4330_3_5</td>\n",
              "      <td>Germany</td>\n",
              "      <td>1992</td>\n",
              "      <td>23F</td>\n",
              "      <td>81</td>\n",
              "    </tr>\n",
              "    <tr>\n",
              "      <th>7</th>\n",
              "      <td>4330_3_4</td>\n",
              "      <td>Germany</td>\n",
              "      <td>1992</td>\n",
              "      <td>23F</td>\n",
              "      <td>81</td>\n",
              "    </tr>\n",
              "    <tr>\n",
              "      <th>8</th>\n",
              "      <td>4330_3_3</td>\n",
              "      <td>Germany</td>\n",
              "      <td>1992</td>\n",
              "      <td>23F</td>\n",
              "      <td>81</td>\n",
              "    </tr>\n",
              "    <tr>\n",
              "      <th>9</th>\n",
              "      <td>4330_3_2</td>\n",
              "      <td>Germany</td>\n",
              "      <td>1993</td>\n",
              "      <td>23F</td>\n",
              "      <td>81</td>\n",
              "    </tr>\n",
              "  </tbody>\n",
              "</table>\n",
              "</div>"
            ],
            "text/plain": [
              "           0        1     2         3   4\n",
              "0       lane  Country  Year  Serotype  ST\n",
              "1   4330_3_1  Germany  1998       23F  81\n",
              "2  4330_3_11  Germany  2001       23F  81\n",
              "3   4330_3_8  Germany  1992       23F  81\n",
              "4   4330_3_7  Germany  1992       23F  81\n",
              "5   4330_3_6  Germany  1992       23F  81\n",
              "6   4330_3_5  Germany  1992       23F  81\n",
              "7   4330_3_4  Germany  1992       23F  81\n",
              "8   4330_3_3  Germany  1992       23F  81\n",
              "9   4330_3_2  Germany  1993       23F  81"
            ]
          },
          "metadata": {
            "tags": []
          },
          "execution_count": 3
        }
      ]
    },
    {
      "cell_type": "code",
      "metadata": {
        "id": "YNryCgGOYZwo"
      },
      "source": [
        ""
      ],
      "execution_count": null,
      "outputs": []
    }
  ]
}